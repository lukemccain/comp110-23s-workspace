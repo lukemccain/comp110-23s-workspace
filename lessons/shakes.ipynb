{
 "cells": [
  {
   "attachments": {},
   "cell_type": "markdown",
   "metadata": {},
   "source": [
    "# Quantifying Shakespeare \n",
    "Analyzing the frequencies of different letters in Shakespeare's work.\n",
    "\n",
    "(Data from: bit.ly/shakespeare-txt)\n",
    "\n",
    "In this notebook we will:\n",
    "1. Read all of Shakespeare's works into a list of strings\n",
    "2. Count the frequencies of letters used\n",
    "3. Visualize the frequencies with a bar graph"
   ]
  },
  {
   "attachments": {},
   "cell_type": "markdown",
   "metadata": {},
   "source": [
    "## Read the lines of the data"
   ]
  },
  {
   "cell_type": "code",
   "execution_count": null,
   "metadata": {},
   "outputs": [],
   "source": [
    "from io import TextIOWrapper\n",
    "\n",
    "def read_lines(filename: str) -> list[str]:\n",
    "    \"\"\"Read a .txt file into a list of strings for each line.\"\"\"\n",
    "    lines: list[str] = []\n",
    "    file_handle: TextIOWrapper = open(filename, \"r\")\n",
    "    for line in file_handle:\n",
    "        #strip leading and trailing whitespace \"  a dog  \" -> \"a dog\"\n",
    "        line = line.strip()\n",
    "        #make everything lowercase\n",
    "        line = line.lower()\n",
    "        lines.append(line)\n",
    "    file_handle.close()\n",
    "    return lines\n",
    "\n",
    "shakes_lines: list[str] = read_lines(\"../data/t8.shakespeare.txt\")\n",
    "print(len(shakes_lines))"
   ]
  },
  {
   "attachments": {},
   "cell_type": "markdown",
   "metadata": {},
   "source": [
    "## Counting Letters"
   ]
  },
  {
   "cell_type": "code",
   "execution_count": null,
   "metadata": {},
   "outputs": [],
   "source": [
    "def tally(counts: dict[str, int], key: str) -> None:\n",
    "    \"\"\"Mutate counts by increasing the value stored at key by 1.\"\"\"\n",
    "    if key in counts:\n",
    "        counts[key] += 1\n",
    "    else:\n",
    "        counts[key] = 1"
   ]
  },
  {
   "cell_type": "code",
   "execution_count": null,
   "metadata": {},
   "outputs": [],
   "source": [
    "d: dict[str, int] = {}\n",
    "tally(d, \"a\")\n",
    "#d = {\"a\": 1}\n",
    "tally(d, \"a\")\n",
    "#d = {\"a\": 2}\n",
    "tally(d, \"b\")\n",
    "#d = {\"a\": 2, \"b\": 1}"
   ]
  },
  {
   "cell_type": "code",
   "execution_count": null,
   "metadata": {},
   "outputs": [],
   "source": [
    "def count_letters(lines: list[str]) -> dict[str, int]:\n",
    "    \"\"\"Count the frequency of each letter in each line of lines.\"\"\"\n",
    "    counts: dict[str, int] = {}\n",
    "    for line in lines: #line is a string\n",
    "        for char in line:\n",
    "            if char.isalpha(): #makes sure I'm only counting alphabetical letters, instead of letters and numbers and spaces, etc.\n",
    "                tally(counts, char)\n",
    "    return counts\n",
    "\n",
    "shakes_letters: dict[str, int] = count_letters(shakes_lines)\n",
    "shakes_letters"
   ]
  },
  {
   "attachments": {},
   "cell_type": "markdown",
   "metadata": {},
   "source": [
    "# Sorting in Lists and Dictionaries"
   ]
  },
  {
   "cell_type": "code",
   "execution_count": null,
   "metadata": {},
   "outputs": [],
   "source": [
    "# Get list of items of a dictionary \n",
    "shakes_letters_list = list(shakes_letters.items()) #puts items in a list\n",
    "#print(shakes_letter_list)\n",
    "shakes_letters_list = sorted(shakes_letters_list) #sorts keys in alphabetical order\n",
    "#print(shakes_letter_list)\n",
    "shakes_letters_sorted = dict(shakes_letters_list) #puts list back into a dictionary\n",
    "#print(shakes_letters_sorted)"
   ]
  },
  {
   "attachments": {},
   "cell_type": "markdown",
   "metadata": {},
   "source": [
    "## Visualize Data in Bar Graph"
   ]
  },
  {
   "cell_type": "code",
   "execution_count": null,
   "metadata": {},
   "outputs": [],
   "source": [
    "from matplotlib import pyplot\n",
    "\n",
    "pyplot.title(\"Letter Frequencies\")\n",
    "pyplot.xlabel(\"Letter\")\n",
    "pyplot.ylabel(\"Frequency\")\n",
    "x_values: list[str] = shakes_letters_sorted.keys() #my letters\n",
    "y_values: list[int] = shakes_letters_sorted.values() #my letter counts\n",
    "pyplot.bar(x_values, y_values)"
   ]
  }
 ],
 "metadata": {
  "kernelspec": {
   "display_name": "Python 3",
   "language": "python",
   "name": "python3"
  },
  "language_info": {
   "codemirror_mode": {
    "name": "ipython",
    "version": 3
   },
   "file_extension": ".py",
   "mimetype": "text/x-python",
   "name": "python",
   "nbconvert_exporter": "python",
   "pygments_lexer": "ipython3",
   "version": "3.11.1"
  },
  "orig_nbformat": 4
 },
 "nbformat": 4,
 "nbformat_minor": 2
}
